{
  "nbformat": 4,
  "nbformat_minor": 0,
  "metadata": {
    "colab": {
      "provenance": [],
      "authorship_tag": "ABX9TyPB15RZxD6mZH3dbXcdYb+n",
      "include_colab_link": true
    },
    "kernelspec": {
      "name": "python3",
      "display_name": "Python 3"
    },
    "language_info": {
      "name": "python"
    }
  },
  "cells": [
    {
      "cell_type": "markdown",
      "metadata": {
        "id": "view-in-github",
        "colab_type": "text"
      },
      "source": [
        "<a href=\"https://colab.research.google.com/github/RayyaRambani/ML/blob/main/nlpsastrawi.ipynb\" target=\"_parent\"><img src=\"https://colab.research.google.com/assets/colab-badge.svg\" alt=\"Open In Colab\"/></a>"
      ]
    },
    {
      "cell_type": "code",
      "execution_count": null,
      "metadata": {
        "id": "WJceiLfjmK3t"
      },
      "outputs": [],
      "source": [
        "import requests\n",
        "import string\n",
        "import re\n",
        "\n",
        "from bs4 import BeautifulSoup\n",
        "import nltk\n",
        "from nltk.corpus import stopwords\n",
        "\n",
        "!pip install Sastrawi\n",
        "from Sastrawi.Stemmer.StemmerFactory import StemmerFactory"
      ]
    },
    {
      "cell_type": "code",
      "source": [
        "web = requests.get('https://www.cnnindonesia.com/internasional').text\n",
        "soup = BeautifulSoup(web)\n",
        "for a in soup(['script']):\n",
        "  a.decompose()\n",
        "test=' '.join(soup.stripped_strings)\n",
        "print(test)"
      ],
      "metadata": {
        "id": "WeTYgE10nGBB"
      },
      "execution_count": null,
      "outputs": []
    },
    {
      "cell_type": "code",
      "source": [
        "test=test.lower()\n",
        "test=re.sub(r\"\\d+\",\"\",test)\n",
        "test= test.translate(str.maketrans(\"\",\"\",string.punctuation))\n",
        "test=test.strip()\n",
        "\n",
        "factory = StemmerFactory()\n",
        "stemmer=factory.create_stemmer()\n",
        "output=stemmer.stem(test)\n",
        "print(output)"
      ],
      "metadata": {
        "id": "6lDEDQH6o4d8"
      },
      "execution_count": null,
      "outputs": []
    },
    {
      "cell_type": "code",
      "source": [
        "tokens=[t for t in output.split()]\n",
        "print(tokens)"
      ],
      "metadata": {
        "id": "BynGfR15qXGg"
      },
      "execution_count": null,
      "outputs": []
    },
    {
      "cell_type": "code",
      "source": [
        "nltk.download()\n",
        "clean_tokens=tokens[:]\n",
        "for token in tokens:\n",
        "  if token in stopwords.words('indonesian'):\n",
        "    clean_tokens.remove(token)\n",
        "\n",
        "freq = nltk.FreqDist(clean_tokens)\n",
        "for key,val in freq.items():\n",
        "  print(str(key)+\":\"+str(val))\n",
        "\n",
        "freq.plot(30)\n"
      ],
      "metadata": {
        "id": "-kb2UYznrK3N"
      },
      "execution_count": null,
      "outputs": []
    }
  ]
}