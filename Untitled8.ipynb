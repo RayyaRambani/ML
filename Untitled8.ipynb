{
  "nbformat": 4,
  "nbformat_minor": 0,
  "metadata": {
    "colab": {
      "provenance": [],
      "toc_visible": true,
      "authorship_tag": "ABX9TyPtO7c6TcyRd9kmDVFXmSsf",
      "include_colab_link": true
    },
    "kernelspec": {
      "name": "python3",
      "display_name": "Python 3"
    },
    "language_info": {
      "name": "python"
    }
  },
  "cells": [
    {
      "cell_type": "markdown",
      "metadata": {
        "id": "view-in-github",
        "colab_type": "text"
      },
      "source": [
        "<a href=\"https://colab.research.google.com/github/RayyaRambani/ML/blob/main/Untitled8.ipynb\" target=\"_parent\"><img src=\"https://colab.research.google.com/assets/colab-badge.svg\" alt=\"Open In Colab\"/></a>"
      ]
    },
    {
      "cell_type": "code",
      "execution_count": null,
      "metadata": {
        "id": "x-kG7yQMoxEn"
      },
      "outputs": [],
      "source": [
        "import pandas as pd\n",
        "\n",
        "sepatu = {'ukuran':[6,10,16,23],\n",
        "          'harga':[5,7,15,20]}\n",
        "        \n",
        "sepatu_df = pd.DataFrame(sepatu)\n",
        "sepatu_df"
      ]
    },
    {
      "cell_type": "code",
      "source": [
        "import matplotlib.pyplot as plt\n",
        "\n",
        "sepatu_df.plot(kind='scatter',x='ukuran',y='harga')\n",
        "\n",
        "plt.title('Perbandingan ukuran dan harga sepatu')\n",
        "plt.xlabel('ukuran')\n",
        "plt.ylabel('harga')\n",
        "plt.xlim(0,25)\n",
        "plt.ylim(0,25)\n",
        "plt.grid(True)\n",
        "plt.show()"
      ],
      "metadata": {
        "id": "Sm9fcELppT5w"
      },
      "execution_count": null,
      "outputs": []
    },
    {
      "cell_type": "code",
      "source": [],
      "metadata": {
        "id": "qxgtgOkMsipo"
      },
      "execution_count": null,
      "outputs": []
    },
    {
      "cell_type": "markdown",
      "source": [
        "SIMPLE LINEAR REGRESSION MODEL\n"
      ],
      "metadata": {
        "id": "-YpRYXHEubUW"
      }
    },
    {
      "cell_type": "code",
      "source": [
        "import numpy as np\n",
        "\n",
        "x = np.array(sepatu_df['ukuran'])\n",
        "y = np.array(sepatu_df['harga'])\n",
        "\n",
        "print(f'x:{x}')\n",
        "print(f'y:{y}')"
      ],
      "metadata": {
        "id": "CMgNt_tXufoe"
      },
      "execution_count": null,
      "outputs": []
    },
    {
      "cell_type": "code",
      "source": [
        "x= x.reshape(-1,1)\n",
        "x.shape"
      ],
      "metadata": {
        "id": "TvxB-qo_u9oe"
      },
      "execution_count": null,
      "outputs": []
    },
    {
      "cell_type": "code",
      "source": [
        "x"
      ],
      "metadata": {
        "id": "QcbtrrLMvObI"
      },
      "execution_count": null,
      "outputs": []
    },
    {
      "cell_type": "markdown",
      "source": [
        "TRAINING "
      ],
      "metadata": {
        "id": "QD4YuqZ5vai0"
      }
    },
    {
      "cell_type": "code",
      "source": [
        "from sklearn.linear_model import LinearRegression\n",
        "\n",
        "model = LinearRegression()\n",
        "model.fit(x,y)"
      ],
      "metadata": {
        "id": "C_A-mp1tvRMl"
      },
      "execution_count": null,
      "outputs": []
    },
    {
      "cell_type": "markdown",
      "source": [
        "VISUALISASI"
      ],
      "metadata": {
        "id": "CzLsKoKAvvSL"
      }
    },
    {
      "cell_type": "code",
      "source": [
        "x_vis = np.array([0,25]).reshape(-1,1)\n",
        "y_vis = model.predict(x_vis)"
      ],
      "metadata": {
        "id": "hbn7drzhvrfy"
      },
      "execution_count": null,
      "outputs": []
    },
    {
      "cell_type": "code",
      "source": [
        "plt.scatter(x,y)\n",
        "plt.plot(x_vis,y_vis,'-r')\n",
        "plt.title('Perbandingan ukuran dan harga Sepatu')\n",
        "plt.xlabel('ukuran')\n",
        "plt.ylabel('harga')\n",
        "plt.xlim(0,25)\n",
        "plt.ylim(0,25)\n",
        "plt.grid(True)\n",
        "plt.show()"
      ],
      "metadata": {
        "id": "PbgO6CcswJAp"
      },
      "execution_count": null,
      "outputs": []
    },
    {
      "cell_type": "markdown",
      "source": [
        "FORMULA LINEAR REGRESSION : Y=A+BX\n",
        "\n",
        "* y:response var\n",
        " = \n",
        "* x:explanatory var\n",
        "=\n",
        "* a:intercept\n",
        "=titik awal pada sumbu y,jika x=0\n",
        "* b:slope\n",
        "=tingkat kemiringan\n",
        "\n"
      ],
      "metadata": {
        "id": "00Jn4CX2yxmQ"
      }
    },
    {
      "cell_type": "code",
      "source": [
        "print(f'intercept: {model.intercept_}')\n",
        "print(f'slope: {model.coef_}')\n"
      ],
      "metadata": {
        "id": "yQ01uzm-wznG"
      },
      "execution_count": null,
      "outputs": []
    },
    {
      "cell_type": "markdown",
      "source": [
        "mencari nilai slope"
      ],
      "metadata": {
        "id": "LDGTWNFm3LFo"
      }
    },
    {
      "cell_type": "markdown",
      "source": [
        "b = cov(x,y)/var(x)"
      ],
      "metadata": {
        "id": "DzCIjUxj3PEL"
      }
    },
    {
      "cell_type": "code",
      "source": [
        "print(f'x:{x}')\n",
        "print(f'x flatten :{x.flatten()}')\n",
        "print(f'y: {y}')"
      ],
      "metadata": {
        "id": "fTzLjqrD3OY1"
      },
      "execution_count": null,
      "outputs": []
    },
    {
      "cell_type": "code",
      "source": [
        "#variance\n",
        "variance_x = np.var(x.flatten(),ddof=1)\n",
        "print(f'variance : {variance_x}')"
      ],
      "metadata": {
        "id": "TEDKUrMr1RAn"
      },
      "execution_count": null,
      "outputs": []
    },
    {
      "cell_type": "code",
      "source": [
        "#convariance\n",
        "np.cov(x.flatten(),y)\n",
        "covariance_xy = np.cov(x.flatten(),y)[0][1]\n",
        "print(f'covariance : {covariance_xy}')"
      ],
      "metadata": {
        "id": "5t-FuneTSNTS"
      },
      "execution_count": null,
      "outputs": []
    },
    {
      "cell_type": "code",
      "source": [
        "#slope\n",
        "slope = covariance_xy / variance_x\n",
        "slope"
      ],
      "metadata": {
        "id": "CErGMhS9Tv1H"
      },
      "execution_count": null,
      "outputs": []
    },
    {
      "cell_type": "markdown",
      "source": [
        "Mencari nilai intercept"
      ],
      "metadata": {
        "id": "_Wx_Vo2tY7OM"
      }
    },
    {
      "cell_type": "code",
      "source": [
        "intercept = np.mean(y)-slope*np.mean(x)\n",
        "print(f'intercept : {intercept}')"
      ],
      "metadata": {
        "id": "VEB3_qeGVkS0"
      },
      "execution_count": null,
      "outputs": []
    },
    {
      "cell_type": "markdown",
      "source": [
        "PREDIKSI HARGA PIZZA\n"
      ],
      "metadata": {
        "id": "_TTBhLFv7ZDe"
      }
    },
    {
      "cell_type": "code",
      "source": [
        "d_sepatu =np.array([12,20,23]).reshape(-1,1)\n",
        "d_sepatu"
      ],
      "metadata": {
        "id": "NR1KUC0pZMIV"
      },
      "execution_count": null,
      "outputs": []
    },
    {
      "cell_type": "code",
      "source": [
        "prediksi_harga = model.predict(d_sepatu)\n",
        "prediksi_harga"
      ],
      "metadata": {
        "id": "7FZULMSH76rZ"
      },
      "execution_count": null,
      "outputs": []
    },
    {
      "cell_type": "code",
      "source": [
        "for d,hrg in zip(d_sepatu,prediksi_harga):\n",
        "  print(f'Diameter : {d} prediksi harga : {hrg}')"
      ],
      "metadata": {
        "id": "InLCeXJB8QTX"
      },
      "execution_count": null,
      "outputs": []
    },
    {
      "cell_type": "markdown",
      "source": [
        "EVALUASI LINEAR REGRESION"
      ],
      "metadata": {
        "id": "Q9IDHlr49FE2"
      }
    },
    {
      "cell_type": "code",
      "source": [
        "x_train = np.array([6,10,16,23]).reshape(-1,1)\n",
        "y_train = np.array([5,7,15,20])\n",
        "\n",
        "x_test = np.array([10,12,19,23]).reshape(-1,1)\n",
        "y_test = np.array([12,8,20,22])"
      ],
      "metadata": {
        "id": "1QmmJ_P386v0"
      },
      "execution_count": null,
      "outputs": []
    },
    {
      "cell_type": "code",
      "source": [
        "model = LinearRegression()\n",
        "model.fit(x_train,y_train)"
      ],
      "metadata": {
        "id": "iIJlkA5n-_J2"
      },
      "execution_count": null,
      "outputs": []
    },
    {
      "cell_type": "code",
      "source": [
        "from sklearn.metrics import r2_score\n",
        "\n",
        "y_pred = model.predict(x_test)\n",
        "r_squared = r2_score(y_test,y_pred)\n",
        "print(f'R squared : {r_squared}')"
      ],
      "metadata": {
        "id": "63i0-Ty8_Kha"
      },
      "execution_count": null,
      "outputs": []
    },
    {
      "cell_type": "code",
      "source": [],
      "metadata": {
        "id": "bBtTIOMgAObK"
      },
      "execution_count": null,
      "outputs": []
    }
  ]
}