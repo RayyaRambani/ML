{
  "nbformat": 4,
  "nbformat_minor": 0,
  "metadata": {
    "colab": {
      "provenance": [],
      "authorship_tag": "ABX9TyP+N961sTSflANQnkgZL4TU",
      "include_colab_link": true
    },
    "kernelspec": {
      "name": "python3",
      "display_name": "Python 3"
    },
    "language_info": {
      "name": "python"
    }
  },
  "cells": [
    {
      "cell_type": "markdown",
      "metadata": {
        "id": "view-in-github",
        "colab_type": "text"
      },
      "source": [
        "<a href=\"https://colab.research.google.com/github/RayyaRambani/ML/blob/main/textTOspeech.ipynb\" target=\"_parent\"><img src=\"https://colab.research.google.com/assets/colab-badge.svg\" alt=\"Open In Colab\"/></a>"
      ]
    },
    {
      "cell_type": "code",
      "execution_count": null,
      "metadata": {
        "id": "5hT7FG0pIAzT"
      },
      "outputs": [],
      "source": [
        "!pip install gTTS\n",
        "from gtts import gTTS\n",
        "from IPython.display import Audio"
      ]
    },
    {
      "cell_type": "code",
      "source": [
        "data=input(\"Masukan Text :\")\n",
        "text=gTTS(text=data,lang='id')\n",
        "text.save('1.wav')\n",
        "sound_file='1.wav'\n",
        "Audio(sound_file,autoplay=True)\n"
      ],
      "metadata": {
        "id": "NjoRoe2AIdVN"
      },
      "execution_count": null,
      "outputs": []
    },
    {
      "cell_type": "code",
      "source": [],
      "metadata": {
        "id": "rcyHBsPeKneL"
      },
      "execution_count": null,
      "outputs": []
    }
  ]
}